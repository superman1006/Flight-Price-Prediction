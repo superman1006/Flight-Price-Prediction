{
 "cells": [
  {
   "metadata": {},
   "cell_type": "code",
   "outputs": [],
   "execution_count": null,
   "source": [
    "from src.data_preprocessing import preprocess_data  # 导入预处理函数\n",
    "# 读取数据并进行预处理\n",
    "print(\"business_df\")\n",
    "business_df = preprocess_data('../data/raw/business.csv')\n",
    "print(\"economy_df\")\n",
    "economy_df = preprocess_data('../data/raw/economy.csv')\n",
    "print(\"clean_df\")\n",
    "clean_df = preprocess_data('../data/raw/Clean_Dataset.csv')\n"
   ],
   "id": "521339e28310fe4"
  },
  {
   "metadata": {},
   "cell_type": "code",
   "outputs": [],
   "execution_count": null,
   "source": [
    "\n",
    "\n",
    "# # 查看特征分类\n",
    "print(f\"business_df列：{business_df.columns}\")\n",
    "print(f\"economy_df列：{economy_df.columns}\")\n",
    "print(f\"clean_df列：{clean_df.columns}\")\n"
   ],
   "id": "ef30716099d50df5"
  },
  {
   "metadata": {},
   "cell_type": "code",
   "outputs": [],
   "execution_count": null,
   "source": [
    "\n",
    "# # 保存预处理后的数据\n",
    "business_df.to_csv('../data/processed/business_processed_data.csv', index=False)\n",
    "economy_df.to_csv('../data/processed/economy_processed_data.csv', index=False)\n",
    "clean_df.to_csv('../data/processed/clean_processed_data.csv', index=False)\n",
    "print(\"数据保存成功\")"
   ],
   "id": "a8f88dd5a2a13738"
  }
 ],
 "metadata": {
  "kernelspec": {
   "display_name": "Python 3",
   "language": "python",
   "name": "python3"
  },
  "language_info": {
   "codemirror_mode": {
    "name": "ipython",
    "version": 2
   },
   "file_extension": ".py",
   "mimetype": "text/x-python",
   "name": "python",
   "nbconvert_exporter": "python",
   "pygments_lexer": "ipython2",
   "version": "2.7.6"
  }
 },
 "nbformat": 4,
 "nbformat_minor": 5
}
